{
  "nbformat": 4,
  "nbformat_minor": 0,
  "metadata": {
    "colab": {
      "name": "Anh's games.ipynb",
      "provenance": []
    },
    "kernelspec": {
      "display_name": "Python 3",
      "name": "python3"
    }
  },
  "cells": [
    {
      "cell_type": "code",
      "metadata": {
        "cellView": "form",
        "colab": {
          "background_save": true
        },
        "id": "BPQBpW-isxPN"
      },
      "source": [
        "#@title WEATHER FORECAST - Click the Play button { run: \"auto\" }\n",
        "\n",
        "import datetime\n",
        "import requests\n",
        "def weather (city,lat,lng):\n",
        "  print('In {}:'.format(city))\n",
        "  dates=[datetime.date.today(), datetime.date.today() + datetime.timedelta(days=1),datetime.date.today() + datetime.timedelta(days=2)]\n",
        "  time='10:00:00'\n",
        "  for date in dates:\n",
        "    url = \"https://api.darksky.net/forecast/b35c24ac71df4b2310a9038089616f68/{},{},{}T{}\".format(lat, lng, date, time)\n",
        "    raw_response = requests.get(url) # get the data from the service\n",
        "    response = raw_response.json() # assuming json, convert the json to a python dictionary\n",
        "    max_tempF = response['daily']['data'][0]['temperatureHigh']\n",
        "    min_tempF = response['daily']['data'][0]['temperatureLow']\n",
        "    status=response['daily']['data'][0]['icon']\n",
        "    max_tempC = (max_tempF - 32) * 0.5556\n",
        "    min_tempC = (min_tempF - 32) * 0.5556\n",
        "    print ('- The temperature on {} is {}-{}C. And it is a {} day'.format(date, int(min_tempC), int(max_tempC), status))\n"
      ],
      "execution_count": null,
      "outputs": []
    },
    {
      "cell_type": "code",
      "metadata": {
        "cellView": "form",
        "colab": {
          "background_save": true
        },
        "id": "uCCej_yLzqe4"
      },
      "source": [
        "#@title Hanoi\n",
        "weather('Hanoi',21.028511,105.804817)"
      ],
      "execution_count": null,
      "outputs": []
    },
    {
      "cell_type": "code",
      "metadata": {
        "cellView": "form",
        "id": "SkzTcXkXzsC-"
      },
      "source": [
        "#@title Ho Chi Minh\n",
        "weather('Hochiminh',10.8231,106.6297)\n"
      ],
      "execution_count": null,
      "outputs": []
    },
    {
      "cell_type": "code",
      "metadata": {
        "cellView": "form",
        "id": "QilplmnvzteG"
      },
      "source": [
        "#@title London\n",
        "weather('London',51.5074,0.1278)\n"
      ],
      "execution_count": null,
      "outputs": []
    },
    {
      "cell_type": "code",
      "metadata": {
        "cellView": "form",
        "id": "-SM0EISuzu3m"
      },
      "source": [
        "#@title Nottingham\n",
        "weather('Nottingham',52.9548,1.1581)"
      ],
      "execution_count": null,
      "outputs": []
    },
    {
      "cell_type": "markdown",
      "metadata": {
        "id": "PB8w8vQTN6Zi"
      },
      "source": [
        "**CHECK YOUR MOON PHASE**"
      ]
    },
    {
      "cell_type": "code",
      "metadata": {
        "cellView": "form",
        "id": "f4qrqWLKNwnQ"
      },
      "source": [
        "#@title Click the 'Play button'\n",
        "print('Please input your name')\n",
        "name=str(input())\n",
        "print('Please input your date of birth (year, month, day), for ex: 1996 05 28')\n",
        "year,month,date=[int(i) for i in input().split()]\n",
        "import pandas as pd\n",
        "pd.read_csv\n",
        "import datetime\n",
        "from lunarcalendar import Converter, Solar, Lunar\n",
        "def moon_phase():\n",
        "  solar = Solar(year,month,date)\n",
        "  lunar = Converter.Solar2Lunar(solar)\n",
        "  if lunar.day <=1:\n",
        "    phase='New Moon'\n",
        "    char='Creative, Adventurous, Impulsive'\n",
        "  elif lunar.day <7:\n",
        "    phase='Waxing Crescent'\n",
        "    char= '\bAmbitious, Diligent, Risk averse'\n",
        "  elif lunar.day <9:\n",
        "    phase='First Quarter'\n",
        "    char='Talented, Brave, Patient'\n",
        "  elif lunar.day <14:\n",
        "    phase='Waxing Gibbous'\n",
        "    char= 'Calm, Gracious, Perfectionist'\n",
        "  elif lunar.day <17:\n",
        "    phase='Full Moon'\n",
        "    char= 'Sensitive, Empathetic, Emotional'\n",
        "  elif lunar.day <22:\n",
        "    phase='\bWaning Gibbous'\n",
        "    char='Meditative, Analytical, Judgmental'\n",
        "  elif lunar.day <24:\n",
        "    phase='\bThird Quarter'\n",
        "    char='Loyal, Emotional, Sociable'\n",
        "  elif lunar.day >=24:\n",
        "    phase='\bWaning Crescent'\n",
        "    char= 'Imaginative, Divergent, Lonesome'\n",
        "  print ('Hi {}, your Moon phase is \\033[32m {}\\033[30m, and your characteristics are \\033[32m {}\\033[30m.'.format(name,phase,char))\n",
        "moon_phase()"
      ],
      "execution_count": null,
      "outputs": []
    },
    {
      "cell_type": "markdown",
      "metadata": {
        "id": "TAaG7ZvEOl4l"
      },
      "source": [
        "**BOMB GAME**"
      ]
    },
    {
      "cell_type": "code",
      "metadata": {
        "cellView": "form",
        "id": "o12ONE358HJi"
      },
      "source": [
        "#@title Click the 'Play' button\n",
        "print('To play, input the number of column & row you want (>=3 or else you could not win:))')\n",
        "n=int(input())\n",
        "def bomb():\n",
        "    print('This is a simple bomb game. The number of column and row is {} each. There will be {} bombs in the field.\\nWhenever you input a row & column number (for ex 3 4 - remember to include space between 2 numbers!), I will inform you on the bomb risk.\\nIn all cases, D letter means Danger zone, X letter mean Safer zone\\nIf you can survive {} times of input, you win!'.format(n,n,n*2))\n",
        "    print('\\nPlease choose the difficulty level. Input 1 for harder mode, which means there is only alert if you near 2 bombs and above.\\n2 is for easier mode, means I will inform the number of bomb around your input area')\n",
        "    m=int(input())  \n",
        "    import random\n",
        "    a=[['0']*n for i in range(n)]\n",
        "    for col in a:\n",
        "            print (' '.join(col))\n",
        "    bomb_list=[]\n",
        "    input_list=[]\n",
        "    while len(bomb_list)<=(n-1):\n",
        "        l=[[random.randint(1,n),random.randint(1,n)]]\n",
        "        if l[0] not in bomb_list:\n",
        "            bomb_list+=l    \n",
        "    # playing part:\n",
        "    if m==2:\n",
        "        while len(input_list)<n*2:\n",
        "            print ('Please input your row & column numbers')\n",
        "            l=[int(i) for i in input().split()]\n",
        "            if l[0]>n or l[1]>n or l[0]<=0 or l[1]<=0:\n",
        "              print('Input out of table range')\n",
        "              continue\n",
        "            if l not in input_list:\n",
        "                input_list+=[l]\n",
        "            else:\n",
        "                print('You enter the same cell. Please try again!')\n",
        "                continue\n",
        "            if l in bomb_list:\n",
        "                print('Oops! You step on bomb. End game.')\n",
        "                a[l[0]-1][l[1]-1]='\\033[31mB\\033[30m'\n",
        "                break\n",
        "            else:\n",
        "                count=0\n",
        "                for i in range(len(bomb_list)):\n",
        "                    if abs(l[0]-bomb_list[i][0])<=1 and abs(l[1]-bomb_list[i][1])<=1:  \n",
        "                        count+=1\n",
        "                        a[l[0]-1][l[1]-1]='\\033[33mD\\033[30m'\n",
        "                if count==0:\n",
        "                    print('Safe zone!')\n",
        "                    a[l[0]-1][l[1]-1]='\\033[32mX\\033[30m'\n",
        "                elif count>=1:\n",
        "                    print ('Watch out! You are close to {} bombs.'.format(count))\n",
        "            for col in a:\n",
        "                print (' '.join(col))\n",
        "            print('Fighting! Only {} more times to win'.format(n*2-len(input_list)))\n",
        "        for col in a:\n",
        "            print (' '.join(col))\n",
        "        if len(input_list)==n*2:\n",
        "            print('\\033[32mCongratulation! You win.\\033[30m')\n",
        "    if m==1:\n",
        "        while len(input_list)<n*2:\n",
        "            print ('Please input your row & column numbers')\n",
        "            l=[int(i) for i in input().split()]\n",
        "            if l[0]>n or l[1]>n or l[0]<=0 or l[1]<=0:\n",
        "              print('Input out of table range')\n",
        "              continue\n",
        "            if l not in input_list:\n",
        "                input_list+=[l]\n",
        "            else:\n",
        "                print('You enter the same cell. Please try again!')\n",
        "                continue\n",
        "            if l in bomb_list:\n",
        "                print('Oops! You step on bomb. End game.')\n",
        "                a[l[0]-1][l[1]-1]='\\033[31mB\\033[30m'\n",
        "                break\n",
        "            else:\n",
        "                count=0\n",
        "                for i in range(len(bomb_list)):\n",
        "                    if abs(l[0]-bomb_list[i][0])<=1 and abs(l[1]-bomb_list[i][1])<=1:  \n",
        "                        count+=1\n",
        "                if count<=1:\n",
        "                    print('0 or 1 bombs LOL')\n",
        "                    a[l[0]-1][l[1]-1]='\\033[32mX\\033[30m'\n",
        "                elif count>=2:\n",
        "                    print ('Watch out! You are close to +2 bombs.')\n",
        "                    a[l[0]-1][l[1]-1]='\\033[33mD\\033[30m'\n",
        "            for col in a:\n",
        "                print (' '.join(col))\n",
        "            print('Fighting! Only {} more times to win'.format(n*2-len(input_list)))\n",
        "        for col in a:\n",
        "            print (' '.join(col))\n",
        "        if len(input_list)==n*2:\n",
        "            print('\\033[32mCongratulation! You win.\\033[30m')\n",
        "bomb()"
      ],
      "execution_count": null,
      "outputs": []
    }
  ]
}